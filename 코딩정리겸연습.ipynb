{
  "nbformat": 4,
  "nbformat_minor": 0,
  "metadata": {
    "colab": {
      "provenance": [],
      "authorship_tag": "ABX9TyNP2VJSm29XzU7fDmuj5YBU",
      "include_colab_link": true
    },
    "kernelspec": {
      "name": "python3",
      "display_name": "Python 3"
    },
    "language_info": {
      "name": "python"
    }
  },
  "cells": [
    {
      "cell_type": "markdown",
      "metadata": {
        "id": "view-in-github",
        "colab_type": "text"
      },
      "source": [
        "<a href=\"https://colab.research.google.com/github/HUFSDavid/spring2024/blob/main/Untitled7.ipynb\" target=\"_parent\"><img src=\"https://colab.research.google.com/assets/colab-badge.svg\" alt=\"Open In Colab\"/></a>"
      ]
    },
    {
      "cell_type": "code",
      "execution_count": 1,
      "metadata": {
        "colab": {
          "base_uri": "https://localhost:8080/"
        },
        "id": "iT6JE9hc4_5w",
        "outputId": "cfa16d70-3c94-44d0-99ba-0f0af2c6857b"
      },
      "outputs": [
        {
          "output_type": "stream",
          "name": "stdout",
          "text": [
            "nice to meet you\n"
          ]
        }
      ],
      "source": [
        "print ('nice to meet you')      # Lesson 3/ 앞에서는 input output외 코랩이 뭔 지 알아보는 시간을 가졌다. 다음부터가 중요.\n",
        "                                # print\n",
        "                                # 는 built in function. print 입력 후 괄호, 그리고 (큰)따움표에 쓰고싶은 말 입력."
      ]
    },
    {
      "cell_type": "code",
      "source": [
        "print ('I love coding')            # print 연습중\n",
        "print ( 'I love the way my professor teaches me')\n",
        "print ('I will get A')"
      ],
      "metadata": {
        "colab": {
          "base_uri": "https://localhost:8080/"
        },
        "id": "FIQoIsax5Cjx",
        "outputId": "c5d54c2b-539e-4907-9d04-5638697c62be"
      },
      "execution_count": 4,
      "outputs": [
        {
          "output_type": "stream",
          "name": "stdout",
          "text": [
            "I love coding\n",
            "I love the way my professor teaches me\n",
            "I will get A\n"
          ]
        }
      ]
    },
    {
      "cell_type": "code",
      "source": [
        "print ('Hello, Python')           # input에 대하여 알아보자 (built-in function)\n",
        "greet= input()                    # input을 쓰면 상대방이 입력할 수 있는 대화창이 나타나네.\n",
        "                                  #인풋을 한 번 쓰고 입력된 값에 따라서 다음 결과가 출력되게 할 수 있겠다.\n",
        "print (greet)"
      ],
      "metadata": {
        "colab": {
          "base_uri": "https://localhost:8080/"
        },
        "id": "d_yDycGM5c9M",
        "outputId": "913da282-6e50-47dc-d9f8-056d5d506727"
      },
      "execution_count": 15,
      "outputs": [
        {
          "output_type": "stream",
          "name": "stdout",
          "text": [
            "Hello, Python\n",
            "hi\n",
            "hi\n"
          ]
        }
      ]
    },
    {
      "cell_type": "code",
      "source": [
        "# input연습  a=3이라고 했을 때 앞으로 3(value)이 a(variable)가 된다고 생각하면 편함.\n",
        "#x= 10 일 떄 10이라는 value가 x(variable)에 assign 되었다.\n",
        "# y= 'hello, World'는  hello, world라는 text가 variable y에 assign 되었다.\n",
        "\n",
        "print ('hello, Python')\n",
        "greet= input ()\n",
        "print (greet)"
      ],
      "metadata": {
        "colab": {
          "base_uri": "https://localhost:8080/"
        },
        "id": "vdE-29o86T64",
        "outputId": "03f4cab6-8069-4cb2-a755-ac7b1b84a933"
      },
      "execution_count": 8,
      "outputs": [
        {
          "output_type": "stream",
          "name": "stdout",
          "text": [
            "hello, Python\n",
            "hello\n",
            "hello\n"
          ]
        }
      ]
    },
    {
      "cell_type": "code",
      "source": [
        "#y= x*10\n",
        "#x= 5\n",
        "#print (y)  이건 안되지. x값이 먼저 주어져야 올바른 코딩값.\n",
        "\n",
        "x= 5\n",
        "y= x*10\n",
        "\n",
        "print(y)"
      ],
      "metadata": {
        "colab": {
          "base_uri": "https://localhost:8080/"
        },
        "id": "nRVyK0HD6zN7",
        "outputId": "664a0798-58db-4cf6-d0e1-af5048e99f04"
      },
      "execution_count": 10,
      "outputs": [
        {
          "output_type": "stream",
          "name": "stdout",
          "text": [
            "50\n"
          ]
        }
      ]
    },
    {
      "cell_type": "code",
      "source": [
        "k= 'welcome'\n",
        "\n",
        "print (k*5)"
      ],
      "metadata": {
        "colab": {
          "base_uri": "https://localhost:8080/"
        },
        "id": "Ui6wZds87nxo",
        "outputId": "2e100bf5-6bd2-48c8-8978-ee299b9f0081"
      },
      "execution_count": 14,
      "outputs": [
        {
          "output_type": "stream",
          "name": "stdout",
          "text": [
            "welcomewelcomewelcomewelcomewelcome\n"
          ]
        }
      ]
    },
    {
      "cell_type": "code",
      "source": [
        "l= x*10\n",
        "print (l)"
      ],
      "metadata": {
        "colab": {
          "base_uri": "https://localhost:8080/"
        },
        "id": "HgWUh9iX739p",
        "outputId": "bf450bb0-6310-4ef9-c301-0f97c0f54d50"
      },
      "execution_count": 13,
      "outputs": [
        {
          "output_type": "stream",
          "name": "stdout",
          "text": [
            "50\n"
          ]
        }
      ]
    },
    {
      "cell_type": "code",
      "source": [
        "#Variable\n",
        "#a=3이라고 했을 때 앞으로 3(value)이 a(variable)가 된다고 생각하면 편함.\n",
        "#x= 10 일 떄 10이라는 value가 x(variable)에 assign 되었다.\n",
        "# y= 'hello, World'는  hello, world라는 text가 variable y에 assign 되었다.\n",
        "# rule\n",
        "# 숫자로 시작 x\n",
        "#알파벳 또는 언더바 (_)\n",
        "# 대소문자에 민감. age/aGe/agE 다 다른 값으로 나옴.\n",
        "# a1= 10\n",
        "#a_1= 10\n",
        "# _a= 10\n",
        "# 다 가능 , but\n",
        "# 1a= 10 등 숫자로 시작 x"
      ],
      "metadata": {
        "id": "c987uLEA8Ju3"
      },
      "execution_count": 17,
      "outputs": []
    },
    {
      "cell_type": "code",
      "source": [
        "# x값이 위 코드에서 입력된 적이 있다면 그 값으로 쭉 간다. 바꿀 떄는 다시 한 번 써주기 예를 들어 위에서 x= 10이라고 했는데 바꾸고 싶으면\n",
        "x = 10\n",
        "print (x)\n",
        "#이렇게 재정의 할 수 있다.\n"
      ],
      "metadata": {
        "colab": {
          "base_uri": "https://localhost:8080/"
        },
        "id": "dyPo0Jk8A9Kb",
        "outputId": "fa59e71b-c7ba-447a-f8c9-97b80c19ad8f"
      },
      "execution_count": 24,
      "outputs": [
        {
          "output_type": "stream",
          "name": "stdout",
          "text": [
            "10\n"
          ]
        }
      ]
    },
    {
      "cell_type": "code",
      "source": [
        "x = x-5\n",
        "print (x)  #이렇게 재정의 할 수 있다."
      ],
      "metadata": {
        "colab": {
          "base_uri": "https://localhost:8080/"
        },
        "id": "Bx4nt4z-B4-0",
        "outputId": "fc6949cb-3962-47e7-93ca-a7c09e7f65ca"
      },
      "execution_count": 25,
      "outputs": [
        {
          "output_type": "stream",
          "name": "stdout",
          "text": [
            "5\n"
          ]
        }
      ]
    },
    {
      "cell_type": "markdown",
      "source": [
        "list에 대해 배워보자. 멀티플아이템!\n",
        "[]사용하기.\n",
        "-index는 0부터 시작.\n",
        "\n",
        "```\n",
        "# This is formatted as code\n",
        "```\n",
        "\n"
      ],
      "metadata": {
        "id": "v347Jb2qCkAa"
      }
    },
    {
      "cell_type": "code",
      "source": [
        "\n",
        "k = [1,2, 'hello']\n",
        "k [-2]"
      ],
      "metadata": {
        "colab": {
          "base_uri": "https://localhost:8080/"
        },
        "id": "gx8RNgerCGcZ",
        "outputId": "cc83005b-2cfb-4965-cf06-822c6a227b8e"
      },
      "execution_count": 31,
      "outputs": [
        {
          "output_type": "execute_result",
          "data": {
            "text/plain": [
              "2"
            ]
          },
          "metadata": {},
          "execution_count": 31
        }
      ]
    },
    {
      "cell_type": "code",
      "source": [
        "mystring = \"python\"\n",
        "mystring [2:4]\n",
        "mystring [:]\n",
        "# 이런 식으로 두개의 값을 하나의 fucntion(?맞는지 모름)으로 도출하려 하면 마지막의 결과값만 도출된다. 이 때는 print로 일일히 지정해줘야 나옴.\n",
        "print (mystring [:])\n",
        "print (mystring [2:4])"
      ],
      "metadata": {
        "colab": {
          "base_uri": "https://localhost:8080/"
        },
        "id": "5MzXSI00DB-Z",
        "outputId": "738ebfcb-b604-459f-9a4d-0f61b6487230"
      },
      "execution_count": 42,
      "outputs": [
        {
          "output_type": "stream",
          "name": "stdout",
          "text": [
            "python\n",
            "th\n"
          ]
        }
      ]
    },
    {
      "cell_type": "markdown",
      "source": [
        "4/6일 수업 끝!\n",
        "4/2 강의 노트 시작"
      ],
      "metadata": {
        "id": "4ndQqNbxF3KO"
      }
    },
    {
      "cell_type": "code",
      "source": [],
      "metadata": {
        "id": "R-9WYmAgDvOO"
      },
      "execution_count": null,
      "outputs": []
    }
  ]
}
